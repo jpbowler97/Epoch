{
 "cells": [
  {
   "cell_type": "code",
   "execution_count": 2,
   "id": "8d11a384",
   "metadata": {},
   "outputs": [
    {
     "name": "stderr",
     "output_type": "stream",
     "text": [
      "/tmp/ipykernel_16931/1363233433.py:18: FutureWarning: Passing literal html to 'read_html' is deprecated and will be removed in a future version. To read from a literal string, wrap it in a 'StringIO' object.\n",
      "  tables = pd.read_html(html)\n"
     ]
    },
    {
     "name": "stdout",
     "output_type": "stream",
     "text": [
      "  Rank                           Model  Arena Elo  Coding  Vision   AAI  \\\n",
      "0    🥇                  Gemini-2.5-Pro     1474.0  1472.0  1315.0  70.5   \n",
      "1    🥇                     Grok-4-0709     1438.0  1440.0  1266.0  73.2   \n",
      "2    🥇                   o3-2025-04-16     1431.0  1442.0  1269.0  70.0   \n",
      "3    🥇  ChatGPT-4o-latest (2025-03-26)     1430.0  1431.0  1295.0  50.3   \n",
      "4    🥇            Grok-3-Preview-02-24     1427.0  1435.0     NaN  56.1   \n",
      "\n",
      "   MMLU-Pro  Votes Organization      License  \n",
      "0      86.2  23460       Google  Proprietary  \n",
      "1      86.6  10622          xAI  Proprietary  \n",
      "2      85.3  29536       OpenAI  Proprietary  \n",
      "3      80.3  29006       OpenAI  Proprietary  \n",
      "4      79.9  30158          xAI  Proprietary  \n"
     ]
    }
   ],
   "source": [
    "import pandas as pd\n",
    "import requests\n",
    "\n",
    "# URL of the Chatbot Arena leaderboard mirror.  This page contains the same data as lmarena.ai.\n",
    "url = \"https://openlm.ai/chatbot-arena/\"\n",
    "\n",
    "# Use a browser-like User-Agent to avoid being blocked.\n",
    "headers = {\n",
    "    \"User-Agent\": (\"Mozilla/5.0 (Windows NT 10.0; Win64; x64) \"\n",
    "                   \"AppleWebKit/537.36 (KHTML, like Gecko) \"\n",
    "                   \"Chrome/120.0 Safari/537.36\")\n",
    "}\n",
    "\n",
    "# Download the page\n",
    "html = requests.get(url, headers=headers).text\n",
    "\n",
    "# Parse all tables from the page\n",
    "tables = pd.read_html(html)\n",
    "\n",
    "# The leaderboard table has the expected column headers.  Find it.\n",
    "for df in tables:\n",
    "    if {\"Model\", \"Arena Elo\", \"Coding\", \"Vision\", \"AAI\",\n",
    "        \"MMLU-Pro\", \"Votes\", \"Organization\", \"License\"}.issubset(df.columns):\n",
    "        leaderboard_df = df\n",
    "        break\n",
    "else:\n",
    "    raise RuntimeError(\"Leaderboard table not found\")\n",
    "\n",
    "# Rename the first column from emoji medals to 'Rank'\n",
    "leaderboard_df = leaderboard_df.rename(columns={leaderboard_df.columns[0]: 'Rank'})\n",
    "\n",
    "# Save to CSV\n",
    "leaderboard_df.to_csv(\"lmarena_leaderboard.csv\", index=False)\n",
    "\n",
    "# Display the first few rows (optional)\n",
    "print(leaderboard_df.head())\n"
   ]
  },
  {
   "cell_type": "code",
   "execution_count": null,
   "id": "81238c32",
   "metadata": {},
   "outputs": [],
   "source": []
  }
 ],
 "metadata": {
  "kernelspec": {
   "display_name": "venv (3.11.9)",
   "language": "python",
   "name": "python3"
  },
  "language_info": {
   "codemirror_mode": {
    "name": "ipython",
    "version": 3
   },
   "file_extension": ".py",
   "mimetype": "text/x-python",
   "name": "python",
   "nbconvert_exporter": "python",
   "pygments_lexer": "ipython3",
   "version": "3.11.9"
  }
 },
 "nbformat": 4,
 "nbformat_minor": 5
}
